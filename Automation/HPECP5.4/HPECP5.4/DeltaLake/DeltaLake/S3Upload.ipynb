{
 "cells": [
  {
   "cell_type": "code",
   "execution_count": 13,
   "metadata": {},
   "outputs": [],
   "source": [
    "MINIO_ENDPOINT = \"http://mip-bd-vm182.mip.storage.hpecorp.net:10024\""
   ]
  },
  {
   "cell_type": "code",
   "execution_count": 14,
   "metadata": {},
   "outputs": [],
   "source": [
    "import boto3\n",
    "from botocore.exceptions import ClientError\n",
    "import logging\n",
    "from botocore.client import Config"
   ]
  },
  {
   "cell_type": "code",
   "execution_count": 15,
   "metadata": {},
   "outputs": [
    {
     "name": "stdout",
     "output_type": "stream",
     "text": [
      "File Copied.\n"
     ]
    }
   ],
   "source": [
    "ACCESS_KEY = \"admin\"\n",
    "SECRET_KEY = \"admin123\"\n",
    "BUCKET = \"deltalake-spark\"\n",
    "\n",
    "clientArgs = {\n",
    "        \"aws_access_key_id\": ACCESS_KEY,\n",
    "        \"aws_secret_access_key\": SECRET_KEY,\n",
    "        \"endpoint_url\": MINIO_ENDPOINT,\n",
    "        \"config\": Config(signature_version='s3v4')\n",
    "    }\n",
    "\n",
    "client = boto3.resource(\"s3\", **clientArgs)\n",
    "\n",
    "flag = True\n",
    "for bucket in client.buckets.all():\n",
    "    if BUCKET == bucket.name:\n",
    "        flag = False\n",
    "\n",
    "if flag:\n",
    "    client.create_bucket(Bucket=BUCKET)\n",
    "try:\n",
    "    client.Bucket(BUCKET).upload_file(\"loans-delta-lake-demo.py\",\"code/loans-delta-lake-demo.py\")\n",
    "    client.Bucket(BUCKET).upload_file(\"SAISEU19-loan-risks.snappy.parquet\",\"data/SAISEU19-loan-risks.snappy.parquet\")\n",
    "    print(\"File Copied.\")\n",
    "except Exception as e:\n",
    "    print(e)\n",
    "    print(\"Failed to Copy.\")"
   ]
  },
  {
   "cell_type": "code",
   "execution_count": null,
   "metadata": {},
   "outputs": [],
   "source": []
  }
 ],
 "metadata": {
  "kernelspec": {
   "display_name": "Python 3",
   "language": "python",
   "name": "python3"
  },
  "kubeflow_notebook": {
   "autosnapshot": false,
   "docker_image": "bluedata/kd-notebook@sha256:07234b781ce21518da396ccfec9708edfd2dea463ada0f02098ddbee0a0cc04c",
   "experiment": {
    "id": "",
    "name": ""
   },
   "experiment_name": "",
   "katib_metadata": {
    "algorithm": {
     "algorithmName": "grid"
    },
    "maxFailedTrialCount": 3,
    "maxTrialCount": 12,
    "objective": {
     "objectiveMetricName": "",
     "type": "minimize"
    },
    "parallelTrialCount": 3,
    "parameters": []
   },
   "katib_run": false,
   "pipeline_description": "",
   "pipeline_name": "",
   "snapshot_volumes": false,
   "steps_defaults": [],
   "volume_access_mode": "rwm",
   "volumes": []
  },
  "language_info": {
   "codemirror_mode": {
    "name": "ipython",
    "version": 3
   },
   "file_extension": ".py",
   "mimetype": "text/x-python",
   "name": "python",
   "nbconvert_exporter": "python",
   "pygments_lexer": "ipython3",
   "version": "3.8.5"
  }
 },
 "nbformat": 4,
 "nbformat_minor": 4
}
