{
 "cells": [
  {
   "cell_type": "code",
   "execution_count": 7,
   "metadata": {},
   "outputs": [],
   "source": [
    "MINIO_ENDPOINT = \"http://mip-bd-vm182.mip.storage.hpecorp.net:10024\""
   ]
  },
  {
   "cell_type": "code",
   "execution_count": 8,
   "metadata": {},
   "outputs": [],
   "source": [
    "YAML = \"\"\"apiVersion: \"sparkoperator.hpe.com/v1beta2\"\n",
    "kind: SparkApplication\n",
    "metadata:\n",
    "  name: deltalake-spark312-nossl\n",
    "spec:\n",
    "  sparkConf:\n",
    "    \"spark.hadoop.fs.s3a.access.key\": \"admin\"\n",
    "    \"spark.hadoop.fs.s3a.secret.key\": \"admin123\"\n",
    "    \"spark.hadoop.fs.s3a.endpoint\": \"{}\"\n",
    "    \"spark.hadoop.fs.s3a.impl\": \"org.apache.hadoop.fs.s3a.S3AFileSystem\"\n",
    "    \"spark.databricks.delta.schema.autoMerge.enabled\": \"true\"\n",
    "  type: Python\n",
    "  pythonVersion: \"3\"\n",
    "  mode: cluster\n",
    "  image: \"gcr.io/mapr-252711/spark-py-3.1.2:202202161825P150\"\n",
    "  imagePullPolicy: Always\n",
    "  imagePullSecrets:\n",
    "    - imagepull\n",
    "  mainApplicationFile: s3a://deltalake-spark/code/loans-delta-lake-demo.py\n",
    "  sparkVersion: \"3.1.2\"\n",
    "  restartPolicy:\n",
    "    type: Never\n",
    "  driver:\n",
    "    cores: 1\n",
    "    coreLimit: \"1200m\"\n",
    "    memory: \"512m\"\n",
    "    labels:\n",
    "      version: 3.1.2\n",
    "    # Note: If you run app in tenant namespace - change serviceAccount name to \"hpe-<namespace>\"\n",
    "    serviceAccount: hpe-testing\n",
    "  executor:\n",
    "    cores: 1\n",
    "    coreLimit: \"1200m\"\n",
    "    instances: 1\n",
    "    memory: \"512m\"\n",
    "    labels:\n",
    "      version: 3.1.2\n",
    "\"\"\".format(MINIO_ENDPOINT)"
   ]
  },
  {
   "cell_type": "code",
   "execution_count": 9,
   "metadata": {},
   "outputs": [],
   "source": [
    "with open(\"deltalake-spark312-noSSL.yaml\", \"w+\") as f:\n",
    "    f.write(YAML)"
   ]
  },
  {
   "cell_type": "code",
   "execution_count": null,
   "metadata": {},
   "outputs": [],
   "source": []
  }
 ],
 "metadata": {
  "kernelspec": {
   "display_name": "Python 3",
   "language": "python",
   "name": "python3"
  },
  "kubeflow_notebook": {
   "autosnapshot": false,
   "docker_image": "bluedata/kd-notebook@sha256:07234b781ce21518da396ccfec9708edfd2dea463ada0f02098ddbee0a0cc04c",
   "experiment": {
    "id": "",
    "name": ""
   },
   "experiment_name": "",
   "katib_metadata": {
    "algorithm": {
     "algorithmName": "grid"
    },
    "maxFailedTrialCount": 3,
    "maxTrialCount": 12,
    "objective": {
     "objectiveMetricName": "",
     "type": "minimize"
    },
    "parallelTrialCount": 3,
    "parameters": []
   },
   "katib_run": false,
   "pipeline_description": "",
   "pipeline_name": "",
   "snapshot_volumes": false,
   "steps_defaults": [],
   "volume_access_mode": "rwm",
   "volumes": []
  },
  "language_info": {
   "codemirror_mode": {
    "name": "ipython",
    "version": 3
   },
   "file_extension": ".py",
   "mimetype": "text/x-python",
   "name": "python",
   "nbconvert_exporter": "python",
   "pygments_lexer": "ipython3",
   "version": "3.8.5"
  }
 },
 "nbformat": 4,
 "nbformat_minor": 4
}
