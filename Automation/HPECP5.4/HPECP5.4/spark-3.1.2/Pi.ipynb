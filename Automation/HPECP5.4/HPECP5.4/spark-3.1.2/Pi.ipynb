{
 "cells": [
  {
   "cell_type": "code",
   "execution_count": null,
   "metadata": {},
   "outputs": [],
   "source": [
    "YAML = \"\"\"\n",
    "apiVersion: \"sparkoperator.hpe.com/v1beta2\"\n",
    "kind: SparkApplication\n",
    "metadata:\n",
    "  name: spark-pi-secure\n",
    "spec:\n",
    "  #sparkConf:\n",
    "    # Note: If you are executing the application as a K8 user that MapR can verify,\n",
    "    #       you do not need to specify a spark.mapr.user.secret\n",
    "    #spark.mapr.user.secret: spark-user-secret\n",
    "    # Note: You do not need to specify a spark.eventLog.dir\n",
    "    #       it will be auto-generated with the pattern \"maprfs:///apps/spark/<namespace>\"\n",
    "    #spark.eventLog.dir: \"maprfs:///apps/spark/sampletenant\"\n",
    "  type: Scala\n",
    "  sparkVersion: 3.1.2\n",
    "  mode: cluster\n",
    "  image: gcr.io/mapr-252711/spark-3.1.2:202202161825P150\n",
    "  imagePullPolicy: Always\n",
    "  imagePullSecrets:\n",
    "  - imagepull\n",
    "  mainClass: org.apache.spark.examples.SparkPi\n",
    "  mainApplicationFile: \"local:///opt/mapr/spark/spark-3.1.2/examples/jars/spark-examples_2.12-3.1.2.3-eep-800.jar\"\n",
    "  restartPolicy:\n",
    "    type: Never\n",
    "  driver:\n",
    "    cores: 1\n",
    "    coreLimit: \"1000m\"\n",
    "    memory: \"512m\"\n",
    "    labels:\n",
    "      version: 3.1.2\n",
    "    # Note: You do not need to specify a serviceAccount\n",
    "    #       it will be auto-generated referencing the pre-existing \"hpe-<namespace>\"\n",
    "    serviceAccount: hpe-testing\n",
    "  executor:\n",
    "    cores: 1\n",
    "    coreLimit: \"1000m\"\n",
    "    instances: 1\n",
    "    memory: \"512m\"\n",
    "    labels:\n",
    "      version: 3.1.2\n",
    "\"\"\""
   ]
  },
  {
   "cell_type": "code",
   "execution_count": null,
   "metadata": {},
   "outputs": [],
   "source": [
    "with open(\"pi.yaml\", \"w+\") as f:\n",
    "    f.write(YAML)"
   ]
  },
  {
   "cell_type": "code",
   "execution_count": null,
   "metadata": {},
   "outputs": [],
   "source": [
    "from ezmllib.spark import submit, delete, logs"
   ]
  },
  {
   "cell_type": "code",
   "execution_count": null,
   "metadata": {},
   "outputs": [],
   "source": [
    "#delete(\"spark-pi-secure\")\n",
    "submit(yaml_path=\"pi.yaml\")"
   ]
  },
  {
   "cell_type": "code",
   "execution_count": null,
   "metadata": {},
   "outputs": [],
   "source": [
    "%%bash\n",
    "#POD=spark-pi-secure-driver\n",
    "timestamp=$(date +%s --date=\"$giveDate 60 minutes\")\n",
    "while true ; do\n",
    "    current_timestamp=$(date +%s)\n",
    "    POD=$(kubectl get pods --no-headers -o custom-columns=\":metadata.name\" | grep spark-pi-secure-driver)\n",
    "    if [ -n \"$POD\" ]; then\n",
    "        STATUS=$(kubectl get pod $POD --no-headers | awk '{ print $3 }')\n",
    "        if [ \"$STATUS\" == \"Error\" ]; then\n",
    "            echo \"Test Failed.\"\n",
    "            break\n",
    "        fi\n",
    "        if [ \"$STATUS\" == \"ImagePuErrorllBackOff\" ]; then\n",
    "            echo \"Test Failed.\"\n",
    "            break\n",
    "        fi\n",
    "        if [ \"$STATUS\" == \"Completed\" ]; then\n",
    "            echo \"Test Passed.\"\n",
    "            break\n",
    "        fi\n",
    "    sleep 20s\n",
    "    fi\n",
    "    \n",
    "    if [ \"$current_timestamp\" -gt \"$timestamp\" ]; then\n",
    "        echo \"Test Failed.\"\n",
    "        break\n",
    "    fi\n",
    "done"
   ]
  },
  {
   "cell_type": "code",
   "execution_count": null,
   "metadata": {},
   "outputs": [],
   "source": [
    "!kubectl delete -f pi.yaml"
   ]
  }
 ],
 "metadata": {
  "kernelspec": {
   "display_name": "Python 3",
   "language": "python",
   "name": "python3"
  },
  "language_info": {
   "codemirror_mode": {
    "name": "ipython",
    "version": 3
   },
   "file_extension": ".py",
   "mimetype": "text/x-python",
   "name": "python",
   "nbconvert_exporter": "python",
   "pygments_lexer": "ipython3",
   "version": "3.8.5"
  }
 },
 "nbformat": 4,
 "nbformat_minor": 4
}
