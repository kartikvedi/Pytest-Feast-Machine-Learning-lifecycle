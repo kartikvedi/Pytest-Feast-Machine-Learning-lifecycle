{
 "cells": [
  {
   "cell_type": "markdown",
   "metadata": {
    "tags": []
   },
   "source": [
    "## Prediction\n",
    "### Deployment of seldon will take few minutes to comes to ready state, so wait for few minutes before actually executing the below cell."
   ]
  },
  {
   "cell_type": "code",
   "execution_count": null,
   "metadata": {},
   "outputs": [],
   "source": [
    "from ezmllib.kubeflow.ezkfp import KfSession\n",
    "K = KfSession(password=\"admin123\")\n",
    "client=K.kf_client()"
   ]
  },
  {
   "cell_type": "code",
   "execution_count": null,
   "metadata": {},
   "outputs": [],
   "source": [
    "import requests, json, getpass\n",
    "\n",
    "KUBEFLOW_URL = K.url.replace('/pipeline', '')\n",
    "\n",
    "NAMESPACE = \"testing\"\n",
    "\n",
    "SELDON_DEPLOYMENT_NAME = \"bikesharing\"\n",
    "\n",
    "user_kf_file = \"/home/\" + getpass.getuser() + \"/.kubeflow/kf.json\"\n",
    "session_cookie = \"\"\n",
    "with open(user_kf_file) as fp:\n",
    "    datajson = json.load(fp)\n",
    "    session_cookie = datajson['session']\n",
    "\n",
    "headers = {\n",
    "    'Accept': 'application/json',\n",
    "    'Content-Type': 'application/json'\n",
    "}\n",
    "\n",
    "\n",
    "cookies = {\n",
    "    'authservice_session': session_cookie.replace('authservice_session=', '')\n",
    "}\n",
    "\n",
    "\n",
    "\n",
    "input_data = [[1, 4, 1, 0, 0, 6, 0, 1, 0.90, 0.2879, 0.81, 0.0000]]\n",
    "names = ['season', 'year', 'month', 'hour_of_day', 'is_holiday', 'weekday', 'is_workingday', \n",
    "         'weather_situation', 'temperature', 'feels_like_temperature', 'humidity', 'windspeed']\n",
    "                                  \n",
    "data = {\"data\":{\"names\": names, \"ndarray\": input_data}}\n",
    "json_request= json.dumps(data)\n",
    "\n",
    "URL = \"{}/seldon/{}/{}/api/v1.0/predictions\".format(KUBEFLOW_URL,NAMESPACE,SELDON_DEPLOYMENT_NAME)\n",
    "\n",
    "response = requests.post(URL, headers=headers, cookies=cookies, data=json_request)\n",
    "if response.status_code == 2001 :\n",
    "    print(\"Prediction Passed.\")\n",
    "    output = response.json()['data']['ndarray']\n",
    "    print(\"Rented Bikes Per Hours:\\n\")\n",
    "    for item in range(len(input_data)):\n",
    "        print(\"Input Data: {} \\n\\nBikes Per Hour: {}\\n\".format({names[i]: input_data[item][i] for i in range(len(names))},output[item]))\n",
    "else:\n",
    "    print(\"Prediction Failed.\")\n"
   ]
  },
  {
   "cell_type": "code",
   "execution_count": null,
   "metadata": {},
   "outputs": [],
   "source": []
  }
 ],
 "metadata": {
  "kernelspec": {
   "display_name": "Python 3",
   "language": "python",
   "name": "python3"
  },
  "language_info": {
   "codemirror_mode": {
    "name": "ipython",
    "version": 3
   },
   "file_extension": ".py",
   "mimetype": "text/x-python",
   "name": "python",
   "nbconvert_exporter": "python",
   "pygments_lexer": "ipython3",
   "version": "3.8.5"
  }
 },
 "nbformat": 4,
 "nbformat_minor": 4
}
